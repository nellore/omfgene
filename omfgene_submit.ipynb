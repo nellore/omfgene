{
 "cells": [
  {
   "cell_type": "markdown",
   "metadata": {},
   "source": [
    "## Scattering and SBG-FS file stream read notebook\n",
    "This notebook explores setting up tasks for scatter and SBG's file storage setup. This runs multiple samples in a scatter plus batch mode. "
   ]
  },
  {
   "cell_type": "code",
   "execution_count": 2,
   "metadata": {
    "collapsed": false
   },
   "outputs": [
    {
     "name": "stdout",
     "output_type": "stream",
     "text": [
      "SBG library imported.\n",
      "0.7.2\n"
     ]
    }
   ],
   "source": [
    "import sevenbridges as sbg\n",
    "from sevenbridges.errors import SbgError\n",
    "from sevenbridges.http.error_handlers import *\n",
    "import re\n",
    "import datetime\n",
    "import binpacking\n",
    "print(\"SBG library imported.\")\n",
    "print sbg.__version__"
   ]
  },
  {
   "cell_type": "markdown",
   "metadata": {},
   "source": [
    "## Logging into your account on CGC \n",
    "Use your authentication token to sync up your account "
   ]
  },
  {
   "cell_type": "code",
   "execution_count": 8,
   "metadata": {
    "collapsed": false
   },
   "outputs": [
    {
     "name": "stdout",
     "output_type": "stream",
     "text": [
      " Api Configured!!\n",
      "Api Username :  <User: username=anellor1>\n"
     ]
    }
   ],
   "source": [
    "prof = 'default'\n",
    "config_file = sbg.Config(profile=prof)\n",
    "api = sbg.Api(config=config_file,error_handlers=[rate_limit_sleeper,maintenance_sleeper,general_error_sleeper])\n",
    "print \"Api Configured!!\"\n",
    "print \"Api Username : \", api.users.me()\n"
   ]
  },
  {
   "cell_type": "markdown",
   "metadata": {},
   "source": [
    "# Finding the project "
   ]
  },
  {
   "cell_type": "code",
   "execution_count": 9,
   "metadata": {
    "collapsed": false
   },
   "outputs": [],
   "source": [
    "my_project = api.projects.get(id='anellor1/omfgene')"
   ]
  },
  {
   "cell_type": "code",
   "execution_count": 10,
   "metadata": {
    "collapsed": false
   },
   "outputs": [
    {
     "name": "stdout",
     "output_type": "stream",
     "text": [
      "<Member: username=anellor1>\n",
      "<Member: username=elehnert>\n",
      "<Member: username=raunaqm_cgc>\n",
      "aaf01c96-dc89-4b54-b0e9-46397b3d907d\n"
     ]
    }
   ],
   "source": [
    "for m in my_project.get_members():\n",
    "    print m\n",
    "print my_project.billing_group"
   ]
  },
  {
   "cell_type": "markdown",
   "metadata": {},
   "source": [
    "# Listing bam files in the project"
   ]
  },
  {
   "cell_type": "code",
   "execution_count": 14,
   "metadata": {
    "collapsed": false
   },
   "outputs": [
    {
     "name": "stdout",
     "output_type": "stream",
     "text": [
      "13307\n"
     ]
    }
   ],
   "source": [
    "#Listing all files in a project\n",
    "files = [f for f in api.files.query(project=my_project,limit=100).all() if f.name.endswith(\".bam\")]\n",
    "print len(files)"
   ]
  },
  {
   "cell_type": "markdown",
   "metadata": {
    "collapsed": false
   },
   "source": [
    "# Get the app to run"
   ]
  },
  {
   "cell_type": "code",
   "execution_count": 15,
   "metadata": {
    "collapsed": false
   },
   "outputs": [
    {
     "name": "stdout",
     "output_type": "stream",
     "text": [
      "omfgene-wrapper\n"
     ]
    }
   ],
   "source": [
    "app = api.apps.get(id=\"anellor1/omfgene/omfgene-wrapper\")\n",
    "print app.name\n",
    "input_port_app = 'input_file'"
   ]
  },
  {
   "cell_type": "markdown",
   "metadata": {},
   "source": [
    "# Set up the number of files per task"
   ]
  },
  {
   "cell_type": "code",
   "execution_count": 16,
   "metadata": {
    "collapsed": false
   },
   "outputs": [],
   "source": [
    "import math\n",
    "inputs = {}\n",
    "\n",
    "num_files = len(files)\n",
    "num_hosts = 10 #instances in workflow\n",
    "jobs_per_host = 36 #threads in per instance\n",
    "minutes_per_run = 25 #estimated\n",
    "runs_per_hour = 300 / minutes_per_run # Setting number of hours to run an task to be a LCD of minutes_per_run\n",
    "tasks_per_run = runs_per_hour * jobs_per_host * num_hosts\n",
    "num_runs = int(math.ceil(num_files*1.0 / tasks_per_run))"
   ]
  },
  {
   "cell_type": "code",
   "execution_count": 17,
   "metadata": {
    "collapsed": false
   },
   "outputs": [
    {
     "name": "stdout",
     "output_type": "stream",
     "text": [
      "13307 4320 4\n"
     ]
    }
   ],
   "source": [
    "print num_files,tasks_per_run,num_runs"
   ]
  },
  {
   "cell_type": "markdown",
   "metadata": {},
   "source": [
    "# Set up draft tasks and perform analysis"
   ]
  },
  {
   "cell_type": "code",
   "execution_count": 20,
   "metadata": {
    "collapsed": false
   },
   "outputs": [
    {
     "name": "stdout",
     "output_type": "stream",
     "text": [
      "Your task OMFGene task Run:1, NumFiles:4320, TimeStamp 2017-03-30 16:22:15.982825 is ready to go\n",
      "Your task OMFGene task Run:2, NumFiles:4320, TimeStamp 2017-03-30 16:22:31.127178 is ready to go\n",
      "Your task OMFGene task Run:3, NumFiles:4320, TimeStamp 2017-03-30 16:22:44.843369 is ready to go\n",
      "Your task OMFGene task Run:4, NumFiles:347, TimeStamp 2017-03-30 16:23:00.799899 is ready to go\n"
     ]
    }
   ],
   "source": [
    "for run_index in range(num_runs): \n",
    "    low_bound = run_index * tasks_per_run\n",
    "    high_bound = min((run_index + 1) * tasks_per_run, num_files)\n",
    "    #print low_bound,high_bound\n",
    "    \n",
    "    input_files = files[low_bound:high_bound]\n",
    "    \n",
    "    task_name = \"OMFGene task Run:{}, NumFiles:{}, TimeStamp {}\".format(run_index+1, high_bound-low_bound, datetime.datetime.now())\n",
    "    \n",
    "    inputs[input_port_app] = input_files\n",
    "    my_task = api.tasks.create(name=task_name, project=my_project, \n",
    "                             app=app, inputs=inputs, run=False)\n",
    "    if my_task.errors:\n",
    "        print(my_task.errors())\n",
    "    else: \n",
    "        print('Your task %s is ready to go' % my_task.name)\n",
    "        # Comment off the statement for execution of tasks.\n",
    "        my_task.run()\n"
   ]
  },
  {
   "cell_type": "code",
   "execution_count": null,
   "metadata": {
    "collapsed": true
   },
   "outputs": [],
   "source": []
  }
 ],
 "metadata": {
  "anaconda-cloud": {},
  "kernelspec": {
   "display_name": "Python [default]",
   "language": "python",
   "name": "python2"
  },
  "language_info": {
   "codemirror_mode": {
    "name": "ipython",
    "version": 2
   },
   "file_extension": ".py",
   "mimetype": "text/x-python",
   "name": "python",
   "nbconvert_exporter": "python",
   "pygments_lexer": "ipython2",
   "version": "2.7.12"
  }
 },
 "nbformat": 4,
 "nbformat_minor": 0
}
